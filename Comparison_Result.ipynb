{
 "cells": [
  {
   "cell_type": "code",
   "execution_count": 1,
   "metadata": {},
   "outputs": [],
   "source": [
    "import cv2\n",
    "import time\n",
    "import json\n",
    "import glob\n",
    "import seaborn as sn\n",
    "import seaborn as sns\n",
    "import pandas as pd\n",
    "import numpy as np\n",
    "import matplotlib.pyplot as plt\n"
   ]
  },
  {
   "cell_type": "code",
   "execution_count": 2,
   "metadata": {},
   "outputs": [],
   "source": [
    "def plot_confusion_matrix(confusion_matrix,index,columns):\n",
    "        df_cm = pd.DataFrame(confusion_matrix, index, columns)\n",
    "        sn.heatmap(df_cm, annot=True)\n",
    "        #sns.set(font_scale=1.4)\n",
    "        #sns.heatmap(df_cm, annot=True, annot_kws={\"size\": 16}, cmap='YlGnBu', fmt='g') # font size\n",
    "        accuracy = sum(sum(np.eye(array.shape[0], dtype=int)*array))/sum(sum(array))\n",
    "        plt.title(\"Accuracy:{}%\\nComparison Matrix\".format(round(accuracy*100,3)))\n",
    "        plt.xlabel('prediction' , fontsize=18)\n",
    "        plt.ylabel('ground truth', fontsize=18)\n",
    "        plt.show()"
   ]
  },
  {
   "cell_type": "code",
   "execution_count": 3,
   "metadata": {},
   "outputs": [],
   "source": [
    "Match_result_csv_path = '/root/notebooks/tooth_project/tooth_PBL_detection/Pattern_detection/roots_point_detect/csv_file/PBL_match_result.csv'"
   ]
  },
  {
   "cell_type": "code",
   "execution_count": 4,
   "metadata": {},
   "outputs": [],
   "source": [
    "Match_result_csv = pd.read_csv(Match_result_csv_path)"
   ]
  },
  {
   "cell_type": "code",
   "execution_count": 5,
   "metadata": {},
   "outputs": [],
   "source": [
    "Match_result_dropna = Match_result_csv.dropna()\n",
    "Match_result_dropna.to_csv('./csv_file/Match_result_dropna.csv')"
   ]
  },
  {
   "cell_type": "code",
   "execution_count": 6,
   "metadata": {},
   "outputs": [
    {
     "name": "stdout",
     "output_type": "stream",
     "text": [
      "194    False\n",
      "Name: PBL_stage, dtype: object\n"
     ]
    }
   ],
   "source": [
    "Ground_truth_stage = Match_result_dropna['state']\n",
    "PBL_predict_stage = Match_result_dropna['PBL_stage']\n",
    "print(PBL_predict_stage[:1])"
   ]
  },
  {
   "cell_type": "code",
   "execution_count": 7,
   "metadata": {},
   "outputs": [
    {
     "name": "stdout",
     "output_type": "stream",
     "text": [
      "True\n",
      "544\n"
     ]
    }
   ],
   "source": [
    "print(len(Ground_truth_stage) == len(PBL_predict_stage))\n",
    "print(len(Ground_truth_stage))"
   ]
  },
  {
   "cell_type": "code",
   "execution_count": 8,
   "metadata": {},
   "outputs": [],
   "source": [
    "Ground_truth_stage_list = list(Ground_truth_stage) \n",
    "PBL_predict_stage_list = list(PBL_predict_stage) "
   ]
  },
  {
   "cell_type": "code",
   "execution_count": 9,
   "metadata": {},
   "outputs": [
    {
     "name": "stdout",
     "output_type": "stream",
     "text": [
      "{0, 1, 2, 3, -999}\n",
      "{'3', '1', 'False', '2', '0'}\n"
     ]
    }
   ],
   "source": [
    "print(set(Ground_truth_stage_list))\n",
    "print(set(PBL_predict_stage_list))"
   ]
  },
  {
   "cell_type": "code",
   "execution_count": 10,
   "metadata": {},
   "outputs": [
    {
     "name": "stdout",
     "output_type": "stream",
     "text": [
      "5\n",
      "69\n",
      "38\n",
      "28\n"
     ]
    }
   ],
   "source": [
    "Ground_truth_stage_list_clean = []\n",
    "PBL_predict_stage_list_clean = []\n",
    "\n",
    "count0 = 0\n",
    "count1 = 0\n",
    "count2 = 0\n",
    "count3 = 0\n",
    "count999 = 0\n",
    "\n",
    "for G,P in zip(Ground_truth_stage_list,PBL_predict_stage_list):\n",
    "    Ground_truth_stage_list_clean.append(G)\n",
    "    if P == 'False':\n",
    "        PBL_predict_stage_list_clean.append(-999)\n",
    "    else:\n",
    "        PBL_predict_stage_list_clean.append(int(P))\n",
    "    \n",
    "    if P!='False':\n",
    "        if G==0 and int(P)==0:\n",
    "            count0+=1\n",
    "        elif G==1 and int(P)==1:\n",
    "            count1+=1\n",
    "        elif G==2 and int(P)==2:\n",
    "            count2+=1\n",
    "        elif G==3 and int(P)==3:\n",
    "            count3+=1\n",
    "            \n",
    "print(count0)\n",
    "print(count1)\n",
    "print(count2)\n",
    "print(count3)"
   ]
  },
  {
   "cell_type": "code",
   "execution_count": 11,
   "metadata": {},
   "outputs": [
    {
     "name": "stdout",
     "output_type": "stream",
     "text": [
      "{0, 1, 2, 3, -999}\n",
      "{0, 1, 2, 3, -999}\n"
     ]
    }
   ],
   "source": [
    "print(set(Ground_truth_stage_list_clean))\n",
    "print(set(PBL_predict_stage_list_clean))"
   ]
  },
  {
   "cell_type": "code",
   "execution_count": 12,
   "metadata": {},
   "outputs": [
    {
     "name": "stdout",
     "output_type": "stream",
     "text": [
      "544 544\n"
     ]
    }
   ],
   "source": [
    "print(len(Ground_truth_stage_list_clean),len(PBL_predict_stage_list_clean))\n"
   ]
  },
  {
   "cell_type": "code",
   "execution_count": 13,
   "metadata": {},
   "outputs": [
    {
     "name": "stdout",
     "output_type": "stream",
     "text": [
      "32.169 %\n",
      "175\n",
      "[35  5 69 38 28]\n"
     ]
    }
   ],
   "source": [
    "from sklearn.metrics import confusion_matrix\n",
    "array  = confusion_matrix(Ground_truth_stage_list_clean, PBL_predict_stage_list_clean)\n",
    "\n",
    "accuracy = sum(sum(np.eye(array.shape[0], dtype=int)*array))/len(Ground_truth_stage_list_clean)\n",
    "print(round(accuracy*100,3),'%')\n",
    "\n",
    "print(sum(sum(np.eye(array.shape[0], dtype=int)*array)))\n",
    "print(sum(np.eye(array.shape[0], dtype=int)*array))"
   ]
  },
  {
   "cell_type": "code",
   "execution_count": 14,
   "metadata": {},
   "outputs": [
    {
     "data": {
      "image/png": "[encoded data removed]",
      "text/plain": [
       "<Figure size 432x288 with 2 Axes>"
      ]
     },
     "metadata": {
      "needs_background": "light"
     },
     "output_type": "display_data"
    }
   ],
   "source": [
    "index = ['-999','0','1','2','3']\n",
    "columns = ['-999','0','1','2','3']\n",
    "\n",
    "plot_confusion_matrix(array,index,columns)"
   ]
  },
  {
   "cell_type": "code",
   "execution_count": null,
   "metadata": {},
   "outputs": [],
   "source": []
  },
  {
   "cell_type": "code",
   "execution_count": null,
   "metadata": {},
   "outputs": [],
   "source": []
  },
  {
   "cell_type": "code",
   "execution_count": null,
   "metadata": {},
   "outputs": [],
   "source": []
  },
  {
   "cell_type": "code",
   "execution_count": null,
   "metadata": {},
   "outputs": [],
   "source": []
  },
  {
   "cell_type": "code",
   "execution_count": null,
   "metadata": {},
   "outputs": [],
   "source": []
  },
  {
   "cell_type": "code",
   "execution_count": 15,
   "metadata": {},
   "outputs": [
    {
     "name": "stdout",
     "output_type": "stream",
     "text": [
      "38\n"
     ]
    }
   ],
   "source": [
    "Ground_truth_stage_list_clean = []\n",
    "PBL_predict_stage_list_clean = []\n",
    "\n",
    "count = 0\n",
    "\n",
    "for G,P in zip(Ground_truth_stage_list,PBL_predict_stage_list):\n",
    "    if G==1 or G==0:\n",
    "        Ground_truth_stage_list_clean.append(0)\n",
    "    else:\n",
    "        Ground_truth_stage_list_clean.append(G)\n",
    "    \n",
    "    \n",
    "    if P == 'False':\n",
    "        PBL_predict_stage_list_clean.append(-999)\n",
    "    elif int(P) ==1 or int(P) ==0:\n",
    "        PBL_predict_stage_list_clean.append(0)\n",
    "    else:\n",
    "        PBL_predict_stage_list_clean.append(int(P))\n",
    "    \n",
    "    \n",
    "    if P!='False':\n",
    "        if G==2 and int(P)==2:\n",
    "            count+=1\n",
    "print(count)"
   ]
  },
  {
   "cell_type": "code",
   "execution_count": 16,
   "metadata": {},
   "outputs": [
    {
     "name": "stdout",
     "output_type": "stream",
     "text": [
      "{0, -999, 2, 3}\n",
      "{0, -999, 2, 3}\n"
     ]
    }
   ],
   "source": [
    "print(set(Ground_truth_stage_list_clean))\n",
    "print(set(PBL_predict_stage_list_clean))"
   ]
  },
  {
   "cell_type": "code",
   "execution_count": 17,
   "metadata": {},
   "outputs": [
    {
     "name": "stdout",
     "output_type": "stream",
     "text": [
      "49.632 %\n",
      "270\n",
      "[ 35 169  38  28]\n"
     ]
    }
   ],
   "source": [
    "from sklearn.metrics import confusion_matrix\n",
    "\n",
    "array  = confusion_matrix(Ground_truth_stage_list_clean, PBL_predict_stage_list_clean)\n",
    "accuracy = sum(sum(np.eye(array.shape[0], dtype=int)*array))/len(Ground_truth_stage_list_clean)\n",
    "print(round(accuracy*100,3),'%')\n",
    "\n",
    "print(sum(sum(np.eye(array.shape[0], dtype=int)*array)))\n",
    "print(sum(np.eye(array.shape[0], dtype=int)*array))"
   ]
  },
  {
   "cell_type": "code",
   "execution_count": 18,
   "metadata": {},
   "outputs": [
    {
     "data": {
      "image/png": "[encoded data removed]",
      "text/plain": [
       "<Figure size 432x288 with 2 Axes>"
      ]
     },
     "metadata": {
      "needs_background": "light"
     },
     "output_type": "display_data"
    }
   ],
   "source": [
    "index = ['-999','0','2','3']\n",
    "columns = ['-999','0','2','3']\n",
    "\n",
    "plot_confusion_matrix(array,index,columns)"
   ]
  },
  {
   "cell_type": "code",
   "execution_count": 19,
   "metadata": {},
   "outputs": [],
   "source": [
    "#2D x:stage y:pbl_value\n"
   ]
  },
  {
   "cell_type": "code",
   "execution_count": 20,
   "metadata": {},
   "outputs": [
    {
     "name": "stdout",
     "output_type": "stream",
     "text": [
      "544\n",
      "544\n"
     ]
    }
   ],
   "source": [
    "Ground_truth_stage = Match_result_dropna['state']\n",
    "#Ground_truth_stage = Match_result_dropna['PBL_stage']\n",
    "PBL_predict_PBL_value = Match_result_dropna['PBL_value']\n",
    "print(len(Ground_truth_stage))\n",
    "print(len(PBL_predict_PBL_value))"
   ]
  },
  {
   "cell_type": "code",
   "execution_count": 21,
   "metadata": {},
   "outputs": [],
   "source": [
    "# print(set(Ground_truth_stage))\n",
    "# print(set(PBL_predict_PBL_value))"
   ]
  },
  {
   "cell_type": "code",
   "execution_count": 22,
   "metadata": {},
   "outputs": [
    {
     "name": "stdout",
     "output_type": "stream",
     "text": [
      "66\n",
      "55\n",
      "80\n",
      "64\n",
      "52\n",
      "102\n",
      "108\n",
      "410\n"
     ]
    }
   ],
   "source": [
    "y_Ground_truth_stage_list_clean = []\n",
    "x_PBL_predict_PBL_value_list_clean = []\n",
    "\n",
    "count = 0\n",
    "\n",
    "for G,P in zip(Ground_truth_stage,PBL_predict_PBL_value):\n",
    "    if G == -999 or int(P)==0:\n",
    "        pass\n",
    "    else:\n",
    "        y_Ground_truth_stage_list_clean.append(G)\n",
    "        x_PBL_predict_PBL_value_list_clean.append(int(P))\n",
    "        count+=1\n",
    "        if int(P) > 50:\n",
    "            print(int(P))\n",
    "print(count)"
   ]
  },
  {
   "cell_type": "code",
   "execution_count": 23,
   "metadata": {},
   "outputs": [
    {
     "name": "stdout",
     "output_type": "stream",
     "text": [
      "{0, 1, 2, 3}\n",
      "{1, 2, 3, 4, 5, 6, 7, 8, 9, 10, 11, 12, 13, 14, 15, 16, 17, 18, 19, 20, 21, 22, 23, 24, 25, 26, 27, 28, 29, 30, 31, 32, 33, 34, 35, 36, 37, 38, 39, 41, 42, 43, 45, 47, 48, 49, 50, 52, 55, 64, 66, 80, 102, 108}\n"
     ]
    }
   ],
   "source": [
    "print(set(y_Ground_truth_stage_list_clean))\n",
    "print(set(x_PBL_predict_PBL_value_list_clean))"
   ]
  },
  {
   "cell_type": "code",
   "execution_count": 24,
   "metadata": {},
   "outputs": [
    {
     "name": "stdout",
     "output_type": "stream",
     "text": [
      "30.732 %\n",
      "47.073 %\n",
      "12.683 %\n",
      "9.512 %\n"
     ]
    }
   ],
   "source": [
    "c0 = y_Ground_truth_stage_list_clean.count(0)\n",
    "c1 = y_Ground_truth_stage_list_clean.count(1)\n",
    "c2 = y_Ground_truth_stage_list_clean.count(2)\n",
    "c3 = y_Ground_truth_stage_list_clean.count(3)\n",
    "cs = c0+c1+c2+c3\n",
    "print(round((c0*100/cs),3),'%')\n",
    "print(round((c1*100/cs),3),'%')\n",
    "print(round((c2*100/cs),3),'%')\n",
    "print(round((c3*100/cs),3),'%')\n"
   ]
  },
  {
   "cell_type": "code",
   "execution_count": 25,
   "metadata": {},
   "outputs": [
    {
     "data": {
      "image/png": "[encoded data removed]",
      "text/plain": [
       "<Figure size 432x288 with 1 Axes>"
      ]
     },
     "metadata": {
      "needs_background": "light"
     },
     "output_type": "display_data"
    }
   ],
   "source": [
    "import numpy as np\n",
    "import matplotlib.pyplot as plt\n",
    "from scipy.stats import gaussian_kde\n",
    "\n",
    "# Generate fake data\n",
    "x = x_PBL_predict_PBL_value_list_clean\n",
    "y = y_Ground_truth_stage_list_clean\n",
    "\n",
    "# Calculate the point density\n",
    "xy = np.vstack([x,y])\n",
    "z = gaussian_kde(xy)(xy)\n",
    "\n",
    "fig, ax = plt.subplots()\n",
    "ax.scatter(x, y, c=z, s=10, edgecolor='')\n",
    "plt.title(\"stage point\")\n",
    "plt.xlabel(\"PBL_predict_value\")\n",
    "plt.ylabel(\"Ground_truth_stage\")\n",
    "plt.show()"
   ]
  },
  {
   "cell_type": "code",
   "execution_count": 26,
   "metadata": {},
   "outputs": [],
   "source": [
    "#stage 0,1,2,3\n",
    "x0,y0 = [],[]\n",
    "x1,y1 = [],[]\n",
    "x2,y2 = [],[]\n",
    "x3,y3 = [],[]\n",
    "for x,y in zip(x_PBL_predict_PBL_value_list_clean,y_Ground_truth_stage_list_clean):\n",
    "    if y == 0:\n",
    "        x0.append(x)\n",
    "        y0.append(y)\n",
    "    elif y == 1:\n",
    "        x1.append(x)\n",
    "        y1.append(y)\n",
    "    elif y == 2:\n",
    "        x2.append(x)\n",
    "        y2.append(y)\n",
    "    elif y == 3:\n",
    "        x3.append(x)\n",
    "        y3.append(y)\n",
    "x0count = x0.copy()\n",
    "y0count = y0.copy()\n",
    "x1count = x1.copy()\n",
    "y1count = y1.copy()\n",
    "x2count = x2.copy()\n",
    "y2count = y2.copy()\n",
    "x3count = x3.copy()\n",
    "y3count = y3.copy()\n",
    "\n",
    "x0.append(0)\n",
    "y0.append(1)\n",
    "x1.append(0)\n",
    "y1.append(0)\n",
    "x2.append(0)\n",
    "y2.append(0)\n",
    "x3.append(0)\n",
    "y3.append(0)"
   ]
  },
  {
   "cell_type": "code",
   "execution_count": null,
   "metadata": {},
   "outputs": [],
   "source": []
  },
  {
   "cell_type": "code",
   "execution_count": 27,
   "metadata": {},
   "outputs": [
    {
     "data": {
      "image/png": "[encoded data removed]",
      "text/plain": [
       "<Figure size 432x288 with 1 Axes>"
      ]
     },
     "metadata": {
      "needs_background": "light"
     },
     "output_type": "display_data"
    }
   ],
   "source": [
    "# Generate fake data\n",
    "\n",
    "# Calculate the point density\n",
    "xy0 = np.vstack([x0,y0])\n",
    "z0 = gaussian_kde(xy0)(xy0)\n",
    "xy1 = np.vstack([x1,y1])\n",
    "z1 = gaussian_kde(xy1)(xy1)\n",
    "xy2 = np.vstack([x2,y2])\n",
    "z2 = gaussian_kde(xy2)(xy2)\n",
    "xy3 = np.vstack([x3,y3])\n",
    "z3 = gaussian_kde(xy3)(xy3)\n",
    "\n",
    "fig, ax = plt.subplots()\n",
    "ax.scatter(x0, y0, c=z0, s=10, edgecolor='')\n",
    "ax.scatter(x1, y1, c=z1, s=10, edgecolor='')\n",
    "ax.scatter(x2, y2, c=z2, s=10, edgecolor='')\n",
    "ax.scatter(x3, y3, c=z3, s=10, edgecolor='')\n",
    "plt.title(\"stage point\")\n",
    "plt.xlabel(\"PBL_predict_value\")\n",
    "plt.ylabel(\"Ground_truth_stage\")\n",
    "plt.show()"
   ]
  },
  {
   "cell_type": "code",
   "execution_count": 28,
   "metadata": {},
   "outputs": [
    {
     "data": {
      "text/plain": [
       "<Figure size 4608x576 with 0 Axes>"
      ]
     },
     "metadata": {},
     "output_type": "display_data"
    },
    {
     "data": {
      "image/png": "[encoded data removed]",
      "text/plain": [
       "<Figure size 432x288 with 4 Axes>"
      ]
     },
     "metadata": {
      "needs_background": "light"
     },
     "output_type": "display_data"
    }
   ],
   "source": [
    "import matplotlib.pyplot as plt\n",
    "\n",
    "\n",
    "def get_value_count(list_,min_,max_):\n",
    "    count = 0\n",
    "    for i in range(min_,max_+1):\n",
    "        count = list_.count(i)+count\n",
    "    return count\n",
    "\n",
    "x = ['{}%~{}%'.format(i*3,(i+1)*3-1) for i in range(34)]\n",
    "y0count = [ get_value_count(x0count,i*3,(i+1)*3-1) for i in range(34)] \n",
    "y1count = [ get_value_count(x1count,i*3,(i+1)*3-1) for i in range(34)] \n",
    "y2count = [ get_value_count(x2count,i*3,(i+1)*3-1) for i in range(34)] \n",
    "y3count = [ get_value_count(x3count,i*3,(i+1)*3-1) for i in range(34)] \n",
    "\n",
    "# fig = plt.figure(figsize=(25,12))\n",
    "# # Or equivalently, \"plt.tight_layout()\" \n",
    "# #plt.subplot(411)\n",
    "# fig, axes = plt.subplots(411) \n",
    "# plt.title('\\n\\nstage0')\n",
    "# plt.bar(x, y0count, label = 'class_a')\n",
    "\n",
    "# #plt.subplot(412)\n",
    "# fig, axes = plt.subplots(412) \n",
    "# plt.title('\\n\\nstage1')\n",
    "# plt.bar(x, y1count, label = 'class_a')\n",
    "\n",
    "# #plt.subplot(413)\n",
    "# fig, axes = plt.subplots(413) \n",
    "# plt.title('\\n\\nstage2')\n",
    "# plt.bar(x, y2count, label = 'class_a')\n",
    "\n",
    "# #plt.subplot(414)\n",
    "# fig, axes = plt.subplots(414) \n",
    "# plt.title('\\n\\nstage3')\n",
    "# plt.bar(x, y3count, label = 'class_a')\n",
    "# fig.tight_layout() \n",
    "# plt.show()\n",
    "\n",
    "fig = plt.figure(figsize=(64,8))\n",
    "fig, ax = plt.subplots(4, 1)\n",
    "ax[0].bar(x, y0count, label = 'class_a')\n",
    "ax[1].bar(x, y1count, label = 'class_a')\n",
    "ax[2].bar(x, y2count, label = 'class_a')\n",
    "ax[3].bar(x, y3count, label = 'class_a')\n",
    "\n",
    "ax[0].set_title(\"Stage 0\")\n",
    "ax[1].set_title(\"Stage 1\")\n",
    "ax[2].set_title(\"Stage 2\")\n",
    "ax[3].set_title(\"Stage 3\")\n",
    "\n",
    "plt.subplots_adjust(left=0.125,\n",
    "                    bottom=0.1, \n",
    "                    right=5, \n",
    "                    top=2, \n",
    "                    wspace=8, \n",
    "                    hspace=0.35)"
   ]
  },
  {
   "cell_type": "code",
   "execution_count": null,
   "metadata": {},
   "outputs": [],
   "source": []
  },
  {
   "cell_type": "code",
   "execution_count": 29,
   "metadata": {},
   "outputs": [],
   "source": [
    "# def to_mask(img):\n",
    "#     r = np.array([255, 0, 0])\n",
    "#     g = np.array([0, 255, 0])\n",
    "#     b = np.array([0, 0, 255])\n",
    "#     black = np.array([0, 0, 0])\n",
    "#     white = np.array([255, 255, 255])\n",
    "#     for i in range(img.shape[0]):\n",
    "#         for j in range(img.shape[1]):\n",
    "#             if (img[i][j] == r).sum() == 3:\n",
    "#                 img[i][j] = black\n",
    "#             elif (img[i][j] == g).sum() == 3:\n",
    "#                 img[i][j] = white\n",
    "#             elif (img[i][j] == b).sum() == 3:\n",
    "#                 img[i][j] = black\n",
    "#             else:\n",
    "#                 pass\n",
    "#     return img"
   ]
  },
  {
   "cell_type": "code",
   "execution_count": 30,
   "metadata": {},
   "outputs": [],
   "source": [
    "# img_path = '/root/notebooks/tooth_project/tooth_xray_segmention_for_test/unet_multiclass/dataset/train_3class_white/label/NN_120827_095316_BFFF2C.PNG'\n",
    "# img = cv2.imread(img_path)\n",
    "# image = cv2.cvtColor(img, cv2.COLOR_BGR2RGB)\n",
    "# image = cv2.resize(image,(260,260))\n",
    "# #image = np.where(image < 2, 0,255)\n",
    "# plt.imshow(image)"
   ]
  },
  {
   "cell_type": "code",
   "execution_count": null,
   "metadata": {},
   "outputs": [],
   "source": []
  },
  {
   "cell_type": "code",
   "execution_count": 31,
   "metadata": {},
   "outputs": [],
   "source": [
    "# import numpy as np\n",
    "# import matplotlib.pyplot as plt\n",
    "# import scipy\n",
    "# #import skimage.filter\n",
    "\n",
    "# img_path = '/root/notebooks/tooth_project/tooth_PBL_detection/Pattern_detection/roots_point_detect/2_roots_unet_mask_components/NN__191111_145307_24202_5.PNG'\n",
    "\n",
    "# img = scipy.misc.imread(img_path, flatten=1)\n",
    "\n",
    "# #img = np.where(img < 125,255,0)\n",
    "# y, x = np.nonzero(img)\n",
    "\n",
    "# ###turn the center of object of nonzero area to [0,0]\n",
    "# x = x - np.mean(x)\n",
    "# y = y - np.mean(y)\n",
    "\n",
    "\n",
    "# ###水平疊加\n",
    "# coords = np.vstack([x, y])\n",
    "# print(coords.shape)\n",
    "\n",
    "# ###斜方差\n",
    "# cov = np.cov(coords)\n",
    "# print(cov.shape)\n",
    "\n",
    "# evals, evecs = np.linalg.eig(cov)\n",
    "# print('------------')\n",
    "# print(evals.shape)\n",
    "# print(evals)\n",
    "# print('------------')\n",
    "# print(evecs.shape)\n",
    "# print(evecs)\n",
    "# sort_indices = np.argsort(evals)[::-1]\n",
    "\n",
    "# print(sort_indices)\n",
    "# x_v1, y_v1 = evecs[:, sort_indices[0]]  # Eigenvector with largest eigenvalue\n",
    "# print('x_v1,y_v1',x_v1,y_v1)\n",
    "# x_v2, y_v2 = evecs[:, sort_indices[1]]\n",
    "\n",
    "# scale = 1\n",
    "# plt.plot([x_v1*-scale*2, x_v1*scale*2],\n",
    "#          [y_v1*-scale*2, y_v1*scale*2], color='red')\n",
    "# plt.plot([-1, 1],\n",
    "#          [-1, 1], color='blue')\n",
    "# #plt.plot(x, y, 'k.')\n",
    "# print(x_v1*-scale*2)\n",
    "# print(x_v1*scale*2)\n",
    "# plt.axis('equal')\n",
    "# plt.gca().invert_yaxis()  # Match the image system with origin at top left\n",
    "# plt.show()\n"
   ]
  },
  {
   "cell_type": "code",
   "execution_count": 32,
   "metadata": {},
   "outputs": [],
   "source": [
    "# import numpy as np\n",
    "# x = np.array([[0, 2], [1, 1], [2, 0]]).T \n",
    "# print(x)\n",
    "\n",
    "# print(np.cov(x))"
   ]
  },
  {
   "cell_type": "code",
   "execution_count": null,
   "metadata": {},
   "outputs": [],
   "source": []
  },
  {
   "cell_type": "code",
   "execution_count": null,
   "metadata": {},
   "outputs": [],
   "source": []
  },
  {
   "cell_type": "code",
   "execution_count": 33,
   "metadata": {},
   "outputs": [],
   "source": [
    "# import numpy as np\n",
    "# import matplotlib.pyplot as plt\n",
    "# import scipy\n",
    "# #import skimage.filter\n",
    "\n",
    "# img_path = '/root/notebooks/tooth_project/tooth_PBL_detection/Pattern_detection/roots_point_detect/2_roots_unet_mask_components/NN__191111_145307_24202_5.PNG'\n",
    "\n",
    "# img = scipy.misc.imread(img_path, flatten=1)\n",
    "\n",
    "# #img = np.where(img < 125,255,0)\n",
    "# y, x = np.nonzero(img)\n",
    "\n",
    "# ###turn the center of object of nonzero area to [0,0]\n",
    "# x = x - np.mean(x)\n",
    "# y = y - np.mean(y)\n",
    "\n",
    "\n",
    "# ###水平疊加\n",
    "# coords = np.vstack([x, y])\n",
    "\n",
    "# ###斜方差\n",
    "# cov = np.cov(coords)\n",
    "\n",
    "\n",
    "# evals, evecs = np.linalg.eig(cov)\n",
    "# sort_indices = np.argsort(evals)[::-1]\n",
    "\n",
    "# x_v1, y_v1 = evecs[:, sort_indices[0]]  # Eigenvector with largest eigenvalue\n",
    "# x_v2, y_v2 = evecs[:, sort_indices[1]]\n",
    "\n",
    "# scale = 200\n",
    "# plt.plot([x_v1*-scale*2, x_v1*scale*2],\n",
    "#          [y_v1*-scale*2, y_v1*scale*2], color='red')\n",
    "# plt.plot([x_v2*-scale, x_v2*scale],\n",
    "#           [y_v2*-scale, y_v2*scale], color='blue')\n",
    "# plt.plot(x, y, 'k.')\n",
    "# plt.axis('equal')\n",
    "# plt.gca().invert_yaxis()  # Match the image system with origin at top left\n",
    "# plt.show()\n"
   ]
  },
  {
   "cell_type": "code",
   "execution_count": null,
   "metadata": {},
   "outputs": [],
   "source": []
  }
 ],
 "metadata": {
  "kernelspec": {
   "display_name": "Python 3",
   "language": "python",
   "name": "python3"
  },
  "language_info": {
   "codemirror_mode": {
    "name": "ipython",
    "version": 3
   },
   "file_extension": ".py",
   "mimetype": "text/x-python",
   "name": "python",
   "nbconvert_exporter": "python",
   "pygments_lexer": "ipython3",
   "version": "3.6.7"
  }
 },
 "nbformat": 4,
 "nbformat_minor": 4
}
